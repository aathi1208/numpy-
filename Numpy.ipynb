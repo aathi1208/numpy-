{
  "nbformat": 4,
  "nbformat_minor": 0,
  "metadata": {
    "colab": {
      "provenance": [],
      "authorship_tag": "ABX9TyP+Z+GJUmDY06bHg1NGOvjW",
      "include_colab_link": true
    },
    "kernelspec": {
      "name": "python3",
      "display_name": "Python 3"
    },
    "language_info": {
      "name": "python"
    }
  },
  "cells": [
    {
      "cell_type": "markdown",
      "metadata": {
        "id": "view-in-github",
        "colab_type": "text"
      },
      "source": [
        "<a href=\"https://colab.research.google.com/github/aathi1208/numpy-/blob/main/Numpy.ipynb\" target=\"_parent\"><img src=\"https://colab.research.google.com/assets/colab-badge.svg\" alt=\"Open In Colab\"/></a>"
      ]
    },
    {
      "cell_type": "code",
      "execution_count": null,
      "metadata": {
        "colab": {
          "base_uri": "https://localhost:8080/"
        },
        "id": "i_HZvPHHPTdd",
        "outputId": "8160a682-3b91-45df-8423-7df61b8794be"
      },
      "outputs": [
        {
          "output_type": "stream",
          "name": "stdout",
          "text": [
            "Enter a number to append\n",
            "5\n",
            "[1, 2, 3, 4, 6, 5]\n"
          ]
        }
      ],
      "source": [
        "lst=[1,2,3,4,6]\n",
        "print(\"Enter a number to append\")\n",
        "a=int(input())\n",
        "lst.append(a)\n",
        "print(lst)"
      ]
    },
    {
      "cell_type": "code",
      "source": [
        "lst=[1,2,3,4,6]\n",
        "print(\"Enter a number to remove\")\n",
        "a=int(input())\n",
        "lst.remove(a)\n",
        "print(lst)"
      ],
      "metadata": {
        "colab": {
          "base_uri": "https://localhost:8080/"
        },
        "id": "e3xYWhsTcIkt",
        "outputId": "8d2d1d38-71f6-4c3e-86a1-bc6e4596ed98"
      },
      "execution_count": null,
      "outputs": [
        {
          "output_type": "stream",
          "name": "stdout",
          "text": [
            "Enter a number to remove\n",
            "2\n",
            "[1, 3, 4, 6]\n"
          ]
        }
      ]
    },
    {
      "cell_type": "code",
      "source": [
        "lst=[1,2,3,4,6]\n",
        "print(\"Enter a index to pop\")\n",
        "a=int(input())\n",
        "lst.pop(a)\n",
        "print(lst)"
      ],
      "metadata": {
        "colab": {
          "base_uri": "https://localhost:8080/"
        },
        "id": "Fn70PvkbcgrW",
        "outputId": "d07dbd75-b054-4945-9913-5f862dd8245b"
      },
      "execution_count": null,
      "outputs": [
        {
          "output_type": "stream",
          "name": "stdout",
          "text": [
            "Enter a index to pop\n",
            "2\n",
            "[1, 2, 4, 6]\n"
          ]
        }
      ]
    },
    {
      "cell_type": "code",
      "source": [
        "import numpy as np\n",
        "a=np.array([1,2,3,4,5,6])\n",
        "print(a)"
      ],
      "metadata": {
        "colab": {
          "base_uri": "https://localhost:8080/"
        },
        "id": "VVdlipp7eBA7",
        "outputId": "66dfe110-e40c-48e5-94fa-f6a50da7ce7a"
      },
      "execution_count": null,
      "outputs": [
        {
          "output_type": "stream",
          "name": "stdout",
          "text": [
            "[1 2 3 4 5 6]\n"
          ]
        }
      ]
    },
    {
      "cell_type": "code",
      "source": [
        "a=np.array([[1,2,3],[4,5,6]])\n",
        "print(a)"
      ],
      "metadata": {
        "colab": {
          "base_uri": "https://localhost:8080/"
        },
        "id": "a-5L_UGueJ4X",
        "outputId": "37a3b775-965c-4f0b-9c14-480b3e440c37"
      },
      "execution_count": null,
      "outputs": [
        {
          "output_type": "stream",
          "name": "stdout",
          "text": [
            "[[1 2 3]\n",
            " [4 5 6]]\n"
          ]
        }
      ]
    },
    {
      "cell_type": "code",
      "source": [
        "soi=np.arange(5,12,2)\n",
        "print(soi)"
      ],
      "metadata": {
        "colab": {
          "base_uri": "https://localhost:8080/"
        },
        "id": "bBKW2UA1eZml",
        "outputId": "9e2777cd-aba3-4485-fc04-ea2480ddc63b"
      },
      "execution_count": null,
      "outputs": [
        {
          "output_type": "stream",
          "name": "stdout",
          "text": [
            "[ 5  7  9 11]\n"
          ]
        }
      ]
    },
    {
      "cell_type": "code",
      "source": [
        "a = np.array([1.,2.,3.],dtype=np.int64)\n",
        "b = np.array([[2,3,4],[3,4,5]])\n",
        "print(a.dtype)\n",
        "print(a)"
      ],
      "metadata": {
        "colab": {
          "base_uri": "https://localhost:8080/"
        },
        "id": "gMorOk2CetFN",
        "outputId": "f0012d48-cddc-44fd-ba55-796bb57bbe1d"
      },
      "execution_count": null,
      "outputs": [
        {
          "output_type": "stream",
          "name": "stdout",
          "text": [
            "int64\n",
            "[1 2 3]\n"
          ]
        }
      ]
    },
    {
      "cell_type": "code",
      "source": [
        "g=np.linspace(0, 10, num=11)\n",
        "print(g)"
      ],
      "metadata": {
        "colab": {
          "base_uri": "https://localhost:8080/"
        },
        "id": "i9NuA9CRhTt_",
        "outputId": "19883372-89c8-4d24-dfbc-83f6f2d97914"
      },
      "execution_count": null,
      "outputs": [
        {
          "output_type": "stream",
          "name": "stdout",
          "text": [
            "[ 0.  1.  2.  3.  4.  5.  6.  7.  8.  9. 10.]\n"
          ]
        }
      ]
    },
    {
      "cell_type": "code",
      "source": [
        "q=np.random.random((2,3))\n",
        "print(q)"
      ],
      "metadata": {
        "colab": {
          "base_uri": "https://localhost:8080/"
        },
        "id": "EaH2atCuhvMW",
        "outputId": "75a694a5-9a51-473f-f5ad-6688fd7d7217"
      },
      "execution_count": null,
      "outputs": [
        {
          "output_type": "stream",
          "name": "stdout",
          "text": [
            "[[0.78279252 0.19406155 0.26076088]\n",
            " [0.83157899 0.24901201 0.81322663]]\n"
          ]
        }
      ]
    },
    {
      "cell_type": "code",
      "source": [
        "a=np.array([[1,2,3,4],[5,6,7,8],[9,10,11,12]])\n",
        "b=a[:2,1:3]\n",
        "print(a)\n",
        "print(b)"
      ],
      "metadata": {
        "colab": {
          "base_uri": "https://localhost:8080/"
        },
        "id": "an-EFmMDh9Qj",
        "outputId": "7a329970-8b71-495d-dabd-398018bc72ca"
      },
      "execution_count": null,
      "outputs": [
        {
          "output_type": "stream",
          "name": "stdout",
          "text": [
            "[[ 1  2  3  4]\n",
            " [ 5  6  7  8]\n",
            " [ 9 10 11 12]]\n",
            "[[2 3]\n",
            " [6 7]]\n"
          ]
        }
      ]
    },
    {
      "cell_type": "code",
      "source": [
        "a=np.array([[1,2,3,4],[5,6,7,8],[9,10,11,12]])\n",
        "r1=a[1, : ]\n",
        "r2=a[1:2, : ]\n",
        "r3=a[[1], : ]\n",
        "print(r1,r1.shape)\n",
        "print(r2,r2.shape)\n",
        "print(r3,r3.shape)"
      ],
      "metadata": {
        "colab": {
          "base_uri": "https://localhost:8080/"
        },
        "id": "cS0q50mElzPF",
        "outputId": "06596f62-8c19-47e4-f5a4-88684da72c85"
      },
      "execution_count": null,
      "outputs": [
        {
          "output_type": "stream",
          "name": "stdout",
          "text": [
            "[5 6 7 8] (4,)\n",
            "[[5 6 7 8]] (1, 4)\n",
            "[[5 6 7 8]] (1, 4)\n"
          ]
        }
      ]
    },
    {
      "cell_type": "code",
      "source": [
        "import numpy as np\n",
        "a=np.array([[1,2],[3,4],[5,6]])\n",
        "bool_idx=(a>2)\n",
        "print(bool_idx)"
      ],
      "metadata": {
        "colab": {
          "base_uri": "https://localhost:8080/"
        },
        "id": "9W_ktRoToC0e",
        "outputId": "9cc4f791-e446-412b-9411-897e75649356"
      },
      "execution_count": null,
      "outputs": [
        {
          "output_type": "stream",
          "name": "stdout",
          "text": [
            "[[False False]\n",
            " [ True  True]\n",
            " [ True  True]]\n"
          ]
        }
      ]
    },
    {
      "cell_type": "code",
      "source": [
        "a=np.array([1,2,3,4,5,6,7,8])\n",
        "print(np.argmax(a))\n",
        "print(np.argmin(a))\n",
        "print(np.argsort(a))\n",
        "print(np.where(a>5)[0])\n",
        "print(np.where(a>=a[np.argmax(a)])[0])"
      ],
      "metadata": {
        "colab": {
          "base_uri": "https://localhost:8080/"
        },
        "id": "MovQf8Pc-B1D",
        "outputId": "a89aba3a-507b-49f6-e7b6-64a2d36ee240"
      },
      "execution_count": null,
      "outputs": [
        {
          "output_type": "stream",
          "name": "stdout",
          "text": [
            "7\n",
            "0\n",
            "[0 1 2 3 4 5 6 7]\n",
            "[5 6 7]\n",
            "[7]\n"
          ]
        }
      ]
    },
    {
      "cell_type": "code",
      "source": [],
      "metadata": {
        "id": "mACmDp41_joF"
      },
      "execution_count": null,
      "outputs": []
    }
  ]
}